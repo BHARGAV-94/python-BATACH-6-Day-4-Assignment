{
 "cells": [
  {
   "cell_type": "markdown",
   "metadata": {},
   "source": [
    "# 1]Find all the occarances of substring in the given string"
   ]
  },
  {
   "cell_type": "code",
   "execution_count": 11,
   "metadata": {},
   "outputs": [
    {
     "name": "stdout",
     "output_type": "stream",
     "text": [
      "0\n",
      "15\n",
      "4\n"
     ]
    }
   ],
   "source": [
    "string = \"RAM  RAM  RAM  RAM\"\n",
    "\n",
    "print (string.find(\"RAM\")) # 0\n",
    "\n",
    "print (string.rfind(\"RAM\")) # 15\n",
    "\n",
    "#this is the ASSIGNMENT\n",
    "\n",
    "print (string.count(\"RAM\")) # [0,5,1]"
   ]
  },
  {
   "cell_type": "code",
   "execution_count": 14,
   "metadata": {},
   "outputs": [
    {
     "name": "stdout",
     "output_type": "stream",
     "text": [
      "3\n",
      "1\n",
      "4\n"
     ]
    }
   ],
   "source": [
    "\n",
    "# defining a string\n",
    "str1 = \"WHAT WE THINK WE BECAME WE ARE PYTHON PROGRAMMERS\"\n",
    "\n",
    "# finding occurrences of 'WE'\n",
    "# in complete string\n",
    "print(str1.count(\"WE\"))\n",
    "\n",
    "# finding occurrences of 'WE'\n",
    "# from 0 to 15 index\n",
    "print(str1.count(\"WE\",0,15))\n",
    "\n",
    "# finding occurrences of 'W' \n",
    "# in complete string\n",
    "print(str1.count(\"W\"))"
   ]
  },
  {
   "cell_type": "markdown",
   "metadata": {},
   "source": [
    "# finding all the index of a string"
   ]
  },
  {
   "cell_type": "code",
   "execution_count": 23,
   "metadata": {},
   "outputs": [
    {
     "name": "stdout",
     "output_type": "stream",
     "text": [
      "WHAT WE THINK WE BECAME WE ARE PYTHON PROGRAMMERS\n"
     ]
    }
   ],
   "source": [
    "str1 = \"WHAT WE THINK WE BECAME WE ARE PYTHON PROGRAMMERS\"\n",
    "print(str1[:56])"
   ]
  },
  {
   "cell_type": "markdown",
   "metadata": {},
   "source": [
    "# checking whether the string is LOWER or UPPER?"
   ]
  },
  {
   "cell_type": "code",
   "execution_count": 26,
   "metadata": {},
   "outputs": [
    {
     "data": {
      "text/plain": [
       "True"
      ]
     },
     "execution_count": 26,
     "metadata": {},
     "output_type": "execute_result"
    }
   ],
   "source": [
    "name=\"BHARGAV RAM\"\n",
    "name.islower()"
   ]
  },
  {
   "cell_type": "code",
   "execution_count": 28,
   "metadata": {},
   "outputs": [
    {
     "data": {
      "text/plain": [
       "True"
      ]
     },
     "execution_count": 28,
     "metadata": {},
     "output_type": "execute_result"
    }
   ],
   "source": [
    "name=\"BHARGAV RAM\"\n",
    "name.isupper()"
   ]
  },
  {
   "cell_type": "code",
   "execution_count": 29,
   "metadata": {},
   "outputs": [
    {
     "data": {
      "text/plain": [
       "False"
      ]
     },
     "execution_count": 29,
     "metadata": {},
     "output_type": "execute_result"
    }
   ],
   "source": [
    "name=\"bhargav ram\"\n",
    "name.isupper()"
   ]
  },
  {
   "cell_type": "code",
   "execution_count": 30,
   "metadata": {},
   "outputs": [
    {
     "data": {
      "text/plain": [
       "True"
      ]
     },
     "execution_count": 30,
     "metadata": {},
     "output_type": "execute_result"
    }
   ],
   "source": [
    "name=\"bhargav ram\"\n",
    "name.islower()"
   ]
  },
  {
   "cell_type": "code",
   "execution_count": null,
   "metadata": {},
   "outputs": [],
   "source": []
  }
 ],
 "metadata": {
  "kernelspec": {
   "display_name": "Python 3",
   "language": "python",
   "name": "python3"
  },
  "language_info": {
   "codemirror_mode": {
    "name": "ipython",
    "version": 3
   },
   "file_extension": ".py",
   "mimetype": "text/x-python",
   "name": "python",
   "nbconvert_exporter": "python",
   "pygments_lexer": "ipython3",
   "version": "3.7.6"
  }
 },
 "nbformat": 4,
 "nbformat_minor": 4
}
